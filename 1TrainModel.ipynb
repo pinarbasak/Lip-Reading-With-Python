{
 "cells": [
  {
   "cell_type": "code",
   "execution_count": 1,
   "metadata": {},
   "outputs": [
    {
     "name": "stderr",
     "output_type": "stream",
     "text": [
      "Using TensorFlow backend.\n"
     ]
    }
   ],
   "source": [
    "import glob\n",
    "\n",
    "import numpy as np\n",
    "import cv2\n",
    "import matplotlib\n",
    "import matplotlib.pyplot as plt\n",
    "from random import shuffle\n",
    "import imutils\n",
    "import os\n",
    "import time\n",
    "import timeit\n",
    "import itertools\n",
    "import dlib\n",
    "\n",
    "from imutils import face_utils\n",
    "\n",
    "from sklearn.metrics import classification_report, confusion_matrix\n",
    "\n",
    "from keras.models import Sequential\n",
    "from keras.layers import Dense, Convolution3D, ZeroPadding3D, Activation, MaxPooling3D, Flatten, Dropout, BatchNormalization\n",
    "from keras.callbacks import TensorBoard, ModelCheckpoint, EarlyStopping, CSVLogger, ReduceLROnPlateau\n",
    "from keras.optimizers import SGD, rmsprop, Adam\n",
    "from keras.models import model_from_json\n",
    "from keras.utils import to_categorical, plot_model\n",
    "\n",
    "np.random.seed(7)\n",
    "np.set_printoptions(formatter={'float': '{: 0.3f}'.format})\n",
    "\n",
    "# add GraphViz library for keras architecure plotting, if on Windows\n",
    "if os.name == 'nt':\n",
    "    os.environ[\"PATH\"] += os.pathsep + 'C:/Program Files (x86)/Graphviz2.38/bin/'"
   ]
  },
  {
   "cell_type": "code",
   "execution_count": 2,
   "metadata": {},
   "outputs": [],
   "source": [
    "# source folder of video files\n",
    "source_folder = 'c:\\\\lrw_dataset_video'\n",
    "# destination folder of frames\n",
    "target_folder = 'c:\\\\lrw_dataset_frame'\n",
    "\n",
    "# sizes of mouth region -> input shape\n",
    "IMG_ROWS = 35\n",
    "IMG_COLS = 50\n",
    "VID_DEPTH = 28"
   ]
  },
  {
   "cell_type": "code",
   "execution_count": 3,
   "metadata": {},
   "outputs": [],
   "source": [
    "# initialize dlib's face detector (HOG-based) and then create\n",
    "# the facial landmark predictor\n",
    "p = \"shape_predictor_68_face_landmarks.dat\"\n",
    "detector = dlib.get_frontal_face_detector()\n",
    "predictor = dlib.shape_predictor(p)"
   ]
  },
  {
   "cell_type": "code",
   "execution_count": 4,
   "metadata": {},
   "outputs": [
    {
     "name": "stdout",
     "output_type": "stream",
     "text": [
      "5\n"
     ]
    }
   ],
   "source": [
    " # selected subset of words for training\n",
    "selected = [\"AGREEMENT\",\"BENEFIT\", \"EXPECTED\",\"CUSTOMERS\",\"CONSERVATIVE\"]\n",
    "print(len(selected))"
   ]
  },
  {
   "cell_type": "markdown",
   "metadata": {},
   "source": [
    "### Data Preprocessing"
   ]
  },
  {
   "cell_type": "code",
   "execution_count": 5,
   "metadata": {},
   "outputs": [],
   "source": [
    "def convert_video_to_3d_array(video):\n",
    "    cap = cv2.VideoCapture(video)\n",
    "\n",
    "    cnt = 0\n",
    "   \n",
    "    lipsFrames = []\n",
    "        \n",
    "    current_video_array = None\n",
    "\n",
    "    while cap.isOpened():\n",
    "        # Capture frame-by-frame\n",
    "        ret, frame = cap.read()\n",
    "        \n",
    "        if ret == True:\n",
    "        \n",
    "            # convert frame to grayscale\n",
    "            gray = cv2.cvtColor(frame, cv2.COLOR_BGR2GRAY)\n",
    "            \n",
    "            # detect faces in the grayscale image\n",
    "            rects = detector(gray, 0)\n",
    "        \n",
    "            # loop over the face detections\n",
    "            for (i, rect) in enumerate(rects):\n",
    "                # determine the facial landmarks for the face region, then\n",
    "                # convert the facial landmark (x, y)-coordinates to a NumPy\n",
    "                # array\n",
    "                global shape\n",
    "                shape = predictor(gray, rect)\n",
    "                shape = face_utils.shape_to_np(shape)\n",
    "            \n",
    "            # crop_img = frame[top:bottom, left:right]\n",
    "            crop = gray[ shape[14][1]:shape[11][1], shape[6][0]:shape[10][0]]\n",
    "            crop = cv2.resize(crop, (IMG_COLS,IMG_ROWS))\n",
    "            #cv2.imwrite(\"frame\"+str(count)+\".jpg\", crop)     # save frame as JPG file\n",
    "        \n",
    "            lips_resized = cv2.resize(crop, (IMG_COLS, IMG_ROWS), interpolation=cv2.INTER_AREA)\n",
    "            lipsFrames.append(lips_resized)\n",
    "                \n",
    "                    \n",
    "        # if video is empty, skip the sample\n",
    "        else:\n",
    "            break\n",
    "        \n",
    "        cnt += 1\n",
    "        if cnt > VID_DEPTH:\n",
    "            current_video_array = np.array(lipsFrames, dtype=\"uint8\")\n",
    "            break\n",
    "            \n",
    "    cap.release()\n",
    "    return current_video_array"
   ]
  },
  {
   "cell_type": "code",
   "execution_count": 6,
   "metadata": {},
   "outputs": [],
   "source": [
    "# cycle over words of subset(train / val / test)\n",
    "def crop_frames_and_save(set_type, words):\n",
    "    \n",
    "    # create target_folder if it doesnt exists\n",
    "    if not os.path.exists(target_folder):\n",
    "        os.makedirs(target_folder)\n",
    "        \n",
    "    # create TYPE folder if it doest exists\n",
    "    if not os.path.exists(os.path.join(target_folder, set_type)):\n",
    "        os.makedirs(os.path.join(target_folder, set_type))\n",
    "        \n",
    "    for current_word in words:\n",
    "\n",
    "        word_files = glob.glob(os.path.join(source_folder, current_word, set_type, '') + \"*.mp4\")\n",
    "        saved = 0\n",
    "        skipped = 0\n",
    "\n",
    "        # cycle thru word samples\n",
    "        for i, video in enumerate(word_files):\n",
    "            np_frame_array = convert_video_to_3d_array(video)\n",
    "\n",
    "            if np_frame_array is not None:\n",
    "                if not os.path.exists(os.path.join(target_folder, set_type, current_word)):\n",
    "                    os.makedirs(os.path.join(target_folder, set_type, current_word))\n",
    "                \n",
    "                np.save(os.path.join(target_folder, set_type, current_word, str(i)), np_frame_array)\n",
    "                saved += 1\n",
    "            else:\n",
    "                skipped += 1\n",
    "        \n",
    "        print(\"Word: {}, saved/skipped: {}/{}\".format(current_word, saved, skipped))"
   ]
  },
  {
   "cell_type": "code",
   "execution_count": 7,
   "metadata": {},
   "outputs": [
    {
     "name": "stdout",
     "output_type": "stream",
     "text": [
      "Word: AGREEMENT, saved/skipped: 400/0\n",
      "Word: BENEFIT, saved/skipped: 400/0\n",
      "Word: EXPECTED, saved/skipped: 400/0\n",
      "Word: CUSTOMERS, saved/skipped: 400/0\n",
      "Word: CONSERVATIVE, saved/skipped: 400/0\n",
      "Word: AGREEMENT, saved/skipped: 40/0\n",
      "Word: BENEFIT, saved/skipped: 40/0\n",
      "Word: EXPECTED, saved/skipped: 40/0\n",
      "Word: CUSTOMERS, saved/skipped: 40/0\n",
      "Word: CONSERVATIVE, saved/skipped: 40/0\n",
      "Word: AGREEMENT, saved/skipped: 40/0\n",
      "Word: BENEFIT, saved/skipped: 40/0\n",
      "Word: EXPECTED, saved/skipped: 40/0\n",
      "Word: CUSTOMERS, saved/skipped: 40/0\n",
      "Word: CONSERVATIVE, saved/skipped: 40/0\n"
     ]
    }
   ],
   "source": [
    "crop_frames_and_save(\"train\", selected)\n",
    "crop_frames_and_save(\"val\", selected)\n",
    "crop_frames_and_save(\"test\", selected)"
   ]
  },
  {
   "cell_type": "markdown",
   "metadata": {},
   "source": [
    "### Data Loading & Labels"
   ]
  },
  {
   "cell_type": "code",
   "execution_count": 8,
   "metadata": {},
   "outputs": [],
   "source": [
    "nb_classes = len(selected)  # len(words)\n",
    "\n",
    "labels = selected\n",
    "labels_num = [i for i in range(0, len(labels))]\n",
    "one_hot_labels = to_categorical(labels_num)\n",
    "\n",
    "labels_num_dict = dict(zip(labels, labels_num))\n",
    "labels_hot_dict = dict(zip(labels, one_hot_labels))"
   ]
  },
  {
   "cell_type": "code",
   "execution_count": 9,
   "metadata": {},
   "outputs": [],
   "source": [
    "def sample_generator(basedir, set_type, batch_size):\n",
    "      \n",
    "    # Directory from which to load samples\n",
    "    directory = os.path.join(basedir, set_type)\n",
    "    \n",
    "    # Placeholder NumPy arrays for features and labels\n",
    "    batch_features = np.zeros((batch_size, VID_DEPTH+1, IMG_ROWS, IMG_COLS, 1))\n",
    "    batch_labels = np.zeros((batch_size, nb_classes), dtype=\"uint8\")\n",
    "    \n",
    "    file_list = []\n",
    "    # Populate with file paths and labels\n",
    "    for word_folder in labels:\n",
    "        file_list.extend((word_folder, os.path.join(directory, word_folder, word_name)) \\\n",
    "                         for word_name in os.listdir(os.path.join(directory, word_folder)))\n",
    "    \n",
    "    while True:\n",
    "#         seq_det = seq.to_deterministic()\n",
    "        for b in range(batch_size):\n",
    "            \n",
    "            i = np.random.choice(len(file_list), 1)[0]\n",
    "            \n",
    "            sample = np.load(file_list[i][1])  # get random sample\n",
    "#             sample = augment_sample(sample, seq_det)\n",
    "            \n",
    "            # Normalize to [-1; 1]\n",
    "            sample = (sample.astype(\"float16\") - 128) / 128 \n",
    "            sample = sample.reshape(sample.shape + (1,))\n",
    "    \n",
    "            batch_features[b] = sample\n",
    "            batch_labels[b] = labels_hot_dict[file_list[i][0]]  # get one_hot vector label\n",
    "\n",
    "        yield (batch_features, batch_labels)"
   ]
  },
  {
   "cell_type": "markdown",
   "metadata": {},
   "source": [
    "### Check Shape ofGenerated Samples"
   ]
  },
  {
   "cell_type": "code",
   "execution_count": 10,
   "metadata": {},
   "outputs": [
    {
     "name": "stdout",
     "output_type": "stream",
     "text": [
      "float64 uint8\n",
      "(2, 29, 35, 50, 1) (2, 5)\n"
     ]
    }
   ],
   "source": [
    "a = sample_generator(target_folder, \"val\", 2)\n",
    "s = next(a)\n",
    "print(s[0].dtype, s[1].dtype)\n",
    "print(s[0].shape, s[1].shape)"
   ]
  },
  {
   "cell_type": "code",
   "execution_count": 11,
   "metadata": {},
   "outputs": [],
   "source": [
    "# load all data at once into array - e.g when evaluating the test subset\n",
    "def get_all_data(basedir, set_type):\n",
    "\n",
    "    directory = os.path.join(basedir, set_type)\n",
    "    file_list = []\n",
    "    for word_folder in labels:\n",
    "        file_list.extend((word_folder, os.path.join(directory, word_folder, word_name)) \\\n",
    "                         for word_name in os.listdir(os.path.join(directory, word_folder)))\n",
    "        \n",
    "    shuffle(file_list)\n",
    "    \n",
    "    X = []\n",
    "    y = []\n",
    "    \n",
    "    for f in file_list:\n",
    "        \n",
    "        sample = np.load(f[1])\n",
    "        sample = (sample.astype(\"float16\") - 128) / 128  # normalize to 0 - 1\n",
    "        X.append(sample)\n",
    "        \n",
    "        y.append(labels_hot_dict[f[0]])\n",
    "    \n",
    "    X = np.array(X)\n",
    "    X = X.reshape(X.shape + (1,))\n",
    "\n",
    "    return (X, np.array(y))"
   ]
  },
  {
   "cell_type": "markdown",
   "metadata": {},
   "source": [
    "### Train Model"
   ]
  },
  {
   "cell_type": "code",
   "execution_count": 12,
   "metadata": {},
   "outputs": [],
   "source": [
    "model_name = \"model\"\n",
    "models_dir = 'models/'"
   ]
  },
  {
   "cell_type": "code",
   "execution_count": 13,
   "metadata": {},
   "outputs": [],
   "source": [
    "def get_model():  \n",
    "    \n",
    "   \n",
    "    model = Sequential()\n",
    "    model.add(Convolution3D(64, (5, 5, 5), padding='same', activation='relu', \n",
    "                            input_shape=(VID_DEPTH+1, IMG_ROWS, IMG_COLS, 1)))\n",
    "    model.add(BatchNormalization())\n",
    "    model.add(MaxPooling3D(pool_size=(3, 3, 3)))\n",
    "    model.add(Dropout(0.2))\n",
    "\n",
    "    model.add(Convolution3D(128, (5, 5, 5), padding='same', activation='relu'))\n",
    "    model.add(MaxPooling3D(pool_size=(3, 3, 3)))\n",
    "    model.add(BatchNormalization())\n",
    "    model.add(Dropout(0.2))\n",
    "    \n",
    "    model.add(Convolution3D(128, (5, 5, 5), padding='same', activation='relu'))\n",
    "    model.add(MaxPooling3D(pool_size=(3, 3, 3)))\n",
    "    model.add(BatchNormalization())\n",
    "    model.add(Dropout(0.2))\n",
    "\n",
    "    model.add(Convolution3D(512, (5, 5, 5), padding='same', activation='relu'))\n",
    "    model.add(BatchNormalization())\n",
    "    model.add(Dropout(0.2))\n",
    "\n",
    "    model.add(Flatten())\n",
    "    model.add(Dense(nb_classes, activation='softmax'))\n",
    "        \n",
    "        \n",
    "    return model"
   ]
  },
  {
   "cell_type": "markdown",
   "metadata": {},
   "source": [
    "### Compile Model"
   ]
  },
  {
   "cell_type": "code",
   "execution_count": 14,
   "metadata": {},
   "outputs": [
    {
     "name": "stdout",
     "output_type": "stream",
     "text": [
      "WARNING:tensorflow:From C:\\Users\\Pinar\\Anaconda3\\lib\\site-packages\\tensorflow\\python\\framework\\op_def_library.py:263: colocate_with (from tensorflow.python.framework.ops) is deprecated and will be removed in a future version.\n",
      "Instructions for updating:\n",
      "Colocations handled automatically by placer.\n",
      "WARNING:tensorflow:From C:\\Users\\Pinar\\Anaconda3\\lib\\site-packages\\keras\\backend\\tensorflow_backend.py:3445: calling dropout (from tensorflow.python.ops.nn_ops) with keep_prob is deprecated and will be removed in a future version.\n",
      "Instructions for updating:\n",
      "Please use `rate` instead of `keep_prob`. Rate should be set to `rate = 1 - keep_prob`.\n"
     ]
    }
   ],
   "source": [
    "opt = Adam(lr=1e-4)\n",
    "\n",
    "model = get_model()\n",
    "model.compile(loss='categorical_crossentropy', optimizer=opt, metrics=['accuracy'])\n",
    "\n",
    "##compile(optimizer, loss=None, metrics=None, loss_weights=None, sample_weight_mode=None, weighted_metrics=None, target_tensors=None)"
   ]
  },
  {
   "cell_type": "markdown",
   "metadata": {},
   "source": [
    "### Saving & Plotting Model Architecture"
   ]
  },
  {
   "cell_type": "code",
   "execution_count": 15,
   "metadata": {},
   "outputs": [
    {
     "name": "stdout",
     "output_type": "stream",
     "text": [
      "_________________________________________________________________\n",
      "Layer (type)                 Output Shape              Param #   \n",
      "=================================================================\n",
      "conv3d_1 (Conv3D)            (None, 29, 35, 50, 64)    8064      \n",
      "_________________________________________________________________\n",
      "batch_normalization_1 (Batch (None, 29, 35, 50, 64)    256       \n",
      "_________________________________________________________________\n",
      "max_pooling3d_1 (MaxPooling3 (None, 9, 11, 16, 64)     0         \n",
      "_________________________________________________________________\n",
      "dropout_1 (Dropout)          (None, 9, 11, 16, 64)     0         \n",
      "_________________________________________________________________\n",
      "conv3d_2 (Conv3D)            (None, 9, 11, 16, 128)    1024128   \n",
      "_________________________________________________________________\n",
      "max_pooling3d_2 (MaxPooling3 (None, 3, 3, 5, 128)      0         \n",
      "_________________________________________________________________\n",
      "batch_normalization_2 (Batch (None, 3, 3, 5, 128)      512       \n",
      "_________________________________________________________________\n",
      "dropout_2 (Dropout)          (None, 3, 3, 5, 128)      0         \n",
      "_________________________________________________________________\n",
      "conv3d_3 (Conv3D)            (None, 3, 3, 5, 128)      2048128   \n",
      "_________________________________________________________________\n",
      "max_pooling3d_3 (MaxPooling3 (None, 1, 1, 1, 128)      0         \n",
      "_________________________________________________________________\n",
      "batch_normalization_3 (Batch (None, 1, 1, 1, 128)      512       \n",
      "_________________________________________________________________\n",
      "dropout_3 (Dropout)          (None, 1, 1, 1, 128)      0         \n",
      "_________________________________________________________________\n",
      "conv3d_4 (Conv3D)            (None, 1, 1, 1, 512)      8192512   \n",
      "_________________________________________________________________\n",
      "batch_normalization_4 (Batch (None, 1, 1, 1, 512)      2048      \n",
      "_________________________________________________________________\n",
      "dropout_4 (Dropout)          (None, 1, 1, 1, 512)      0         \n",
      "_________________________________________________________________\n",
      "flatten_1 (Flatten)          (None, 512)               0         \n",
      "_________________________________________________________________\n",
      "dense_1 (Dense)              (None, 5)                 2565      \n",
      "=================================================================\n",
      "Total params: 11,278,725\n",
      "Trainable params: 11,277,061\n",
      "Non-trainable params: 1,664\n",
      "_________________________________________________________________\n"
     ]
    }
   ],
   "source": [
    "# save model architecture to json\n",
    "model_json = model.to_json()\n",
    "with open(models_dir + model_name + \".json\", \"w\") as json_file:\n",
    "    json_file.write(model_json)\n",
    "\n",
    "# print / plot model architecture\n",
    "model.summary()\n",
    "plot_model(model, to_file='outputs/architecture_{}.pdf'.format(model_name), show_shapes=True, show_layer_names=False) "
   ]
  },
  {
   "cell_type": "markdown",
   "metadata": {},
   "source": [
    "### Keras Callbacks Initialization"
   ]
  },
  {
   "cell_type": "code",
   "execution_count": 1,
   "metadata": {},
   "outputs": [
    {
     "ename": "NameError",
     "evalue": "name 'TensorBoard' is not defined",
     "output_type": "error",
     "traceback": [
      "\u001b[1;31m---------------------------------------------------------------------------\u001b[0m",
      "\u001b[1;31mNameError\u001b[0m                                 Traceback (most recent call last)",
      "\u001b[1;32m<ipython-input-1-bf62cf9616b2>\u001b[0m in \u001b[0;36m<module>\u001b[1;34m\u001b[0m\n\u001b[1;32m----> 1\u001b[1;33m tensorboard = TensorBoard(log_dir=\"logs/{}\".format(model_name),\n\u001b[0m\u001b[0;32m      2\u001b[0m                           write_graph=True, write_images=True)\n\u001b[0;32m      3\u001b[0m \u001b[1;33m\u001b[0m\u001b[0m\n\u001b[0;32m      4\u001b[0m \u001b[0mfilepath\u001b[0m \u001b[1;33m=\u001b[0m \u001b[0mmodels_dir\u001b[0m \u001b[1;33m+\u001b[0m \u001b[0mmodel_name\u001b[0m \u001b[1;33m+\u001b[0m \u001b[1;34m\".h5\"\u001b[0m\u001b[1;33m\u001b[0m\u001b[1;33m\u001b[0m\u001b[0m\n\u001b[0;32m      5\u001b[0m checkpoint = ModelCheckpoint(filepath, monitor='val_acc', verbose=1,\n",
      "\u001b[1;31mNameError\u001b[0m: name 'TensorBoard' is not defined"
     ]
    }
   ],
   "source": [
    "tensorboard = TensorBoard(log_dir=\"logs/{}\".format(model_name),\n",
    "                          write_graph=True, write_images=True)\n",
    "    \n",
    "filepath = models_dir + model_name + \".h5\"\n",
    "checkpoint = ModelCheckpoint(filepath, monitor='val_acc', verbose=1,\n",
    "                             save_best_only=True, save_weights_only=True, mode='max')\n",
    "\n",
    "earlyStopping = EarlyStopping(monitor='val_acc', patience=3, verbose=1, mode='max')\n",
    "\n",
    "csv_logger = CSVLogger('outputs/log_{}.csv'.format(model_name), append=True, separator=';')\n",
    "\n",
    "learning_rate_reduction = ReduceLROnPlateau(monitor='val_acc', patience=3, verbose=1, factor=0.5, min_lr=0.0001)"
   ]
  },
  {
   "cell_type": "markdown",
   "metadata": {},
   "source": [
    "### Run Training"
   ]
  },
  {
   "cell_type": "code",
   "execution_count": 18,
   "metadata": {},
   "outputs": [
    {
     "name": "stdout",
     "output_type": "stream",
     "text": [
      "WARNING:tensorflow:From C:\\Users\\Pinar\\Anaconda3\\lib\\site-packages\\tensorflow\\python\\ops\\math_ops.py:3066: to_int32 (from tensorflow.python.ops.math_ops) is deprecated and will be removed in a future version.\n",
      "Instructions for updating:\n",
      "Use tf.cast instead.\n",
      "Epoch 1/20\n",
      "125/125 [==============================] - 1974s 16s/step - loss: 1.8750 - acc: 0.2615 - val_loss: 1.6887 - val_acc: 0.3698\n",
      "\n",
      "Epoch 00001: val_acc improved from -inf to 0.36979, saving model to models/model_26052019_LRW2.h5\n",
      "Epoch 2/20\n",
      "125/125 [==============================] - 1942s 16s/step - loss: 1.7082 - acc: 0.3240 - val_loss: 1.6629 - val_acc: 0.3646\n",
      "\n",
      "Epoch 00002: val_acc did not improve from 0.36979\n",
      "Epoch 3/20\n",
      "125/125 [==============================] - 1998s 16s/step - loss: 1.5527 - acc: 0.3820 - val_loss: 1.5791 - val_acc: 0.3854\n",
      "\n",
      "Epoch 00003: val_acc improved from 0.36979 to 0.38542, saving model to models/model_26052019_LRW2.h5\n",
      "Epoch 4/20\n",
      "125/125 [==============================] - 2052s 16s/step - loss: 1.2551 - acc: 0.5190 - val_loss: 1.1133 - val_acc: 0.5573\n",
      "\n",
      "Epoch 00004: val_acc improved from 0.38542 to 0.55729, saving model to models/model_26052019_LRW2.h5\n",
      "Epoch 5/20\n",
      "125/125 [==============================] - 2052s 16s/step - loss: 0.9130 - acc: 0.6585 - val_loss: 1.1424 - val_acc: 0.6146\n",
      "\n",
      "Epoch 00005: val_acc improved from 0.55729 to 0.61458, saving model to models/model_26052019_LRW2.h5\n",
      "Epoch 6/20\n",
      "125/125 [==============================] - 2052s 16s/step - loss: 0.8152 - acc: 0.6855 - val_loss: 1.0151 - val_acc: 0.5990\n",
      "\n",
      "Epoch 00006: val_acc did not improve from 0.61458\n",
      "Epoch 7/20\n",
      "125/125 [==============================] - 1994s 16s/step - loss: 0.6154 - acc: 0.7740 - val_loss: 0.7455 - val_acc: 0.7240\n",
      "\n",
      "Epoch 00007: val_acc improved from 0.61458 to 0.72396, saving model to models/model_26052019_LRW2.h5\n",
      "Epoch 8/20\n",
      "125/125 [==============================] - 1901s 15s/step - loss: 0.6060 - acc: 0.7915 - val_loss: 0.9131 - val_acc: 0.6875\n",
      "\n",
      "Epoch 00008: val_acc did not improve from 0.72396\n",
      "Epoch 9/20\n",
      "125/125 [==============================] - 1894s 15s/step - loss: 0.4241 - acc: 0.8470 - val_loss: 0.8936 - val_acc: 0.7031\n",
      "\n",
      "Epoch 00009: val_acc did not improve from 0.72396\n",
      "Epoch 10/20\n",
      "125/125 [==============================] - 1901s 15s/step - loss: 0.3803 - acc: 0.8540 - val_loss: 0.6675 - val_acc: 0.7656\n",
      "\n",
      "Epoch 00010: val_acc improved from 0.72396 to 0.76562, saving model to models/model_26052019_LRW2.h5\n",
      "Epoch 11/20\n",
      "125/125 [==============================] - 1914s 15s/step - loss: 0.3520 - acc: 0.8785 - val_loss: 0.8163 - val_acc: 0.7448\n",
      "\n",
      "Epoch 00011: val_acc did not improve from 0.76562\n",
      "Epoch 12/20\n",
      "125/125 [==============================] - 1893s 15s/step - loss: 0.2585 - acc: 0.9115 - val_loss: 0.6815 - val_acc: 0.7760\n",
      "\n",
      "Epoch 00012: val_acc improved from 0.76562 to 0.77604, saving model to models/model_26052019_LRW2.h5\n",
      "Epoch 13/20\n",
      "125/125 [==============================] - 1878s 15s/step - loss: 0.2784 - acc: 0.8930 - val_loss: 0.9043 - val_acc: 0.7344\n",
      "\n",
      "Epoch 00013: val_acc did not improve from 0.77604\n",
      "Epoch 14/20\n",
      "125/125 [==============================] - 1804s 14s/step - loss: 0.2613 - acc: 0.9165 - val_loss: 0.9910 - val_acc: 0.7604\n",
      "\n",
      "Epoch 00014: val_acc did not improve from 0.77604\n",
      "Epoch 15/20\n",
      "125/125 [==============================] - 1797s 14s/step - loss: 0.2345 - acc: 0.9180 - val_loss: 0.6372 - val_acc: 0.8333\n",
      "\n",
      "Epoch 00015: val_acc improved from 0.77604 to 0.83333, saving model to models/model_26052019_LRW2.h5\n",
      "Epoch 16/20\n",
      "125/125 [==============================] - 1914s 15s/step - loss: 0.1761 - acc: 0.9410 - val_loss: 0.4578 - val_acc: 0.8698\n",
      "\n",
      "Epoch 00016: val_acc improved from 0.83333 to 0.86979, saving model to models/model_26052019_LRW2.h5\n",
      "Epoch 17/20\n",
      "125/125 [==============================] - 1859s 15s/step - loss: 0.1671 - acc: 0.9420 - val_loss: 0.9177 - val_acc: 0.7917\n",
      "\n",
      "Epoch 00017: val_acc did not improve from 0.86979\n",
      "Epoch 18/20\n",
      "125/125 [==============================] - 1962s 16s/step - loss: 0.1543 - acc: 0.9425 - val_loss: 0.9198 - val_acc: 0.7708\n",
      "\n",
      "Epoch 00018: val_acc did not improve from 0.86979\n",
      "Epoch 19/20\n",
      "125/125 [==============================] - 1991s 16s/step - loss: 0.1284 - acc: 0.9610 - val_loss: 0.6344 - val_acc: 0.8281\n",
      "\n",
      "Epoch 00019: val_acc did not improve from 0.86979\n",
      "Epoch 00019: early stopping\n"
     ]
    }
   ],
   "source": [
    "nb_epoch = 20\n",
    "batch_size = 16\n",
    "\n",
    "num_examples = nb_classes * 400\n",
    "num_val_examples = nb_classes * 40\n",
    "\n",
    "history = model.fit_generator(\n",
    "          generator=sample_generator(target_folder, \"train\", batch_size),\n",
    "          epochs=nb_epoch,\n",
    "          steps_per_epoch=num_examples // batch_size,\n",
    "          validation_data=sample_generator(target_folder, \"val\", batch_size),\n",
    "          validation_steps=num_val_examples // batch_size,\n",
    "          verbose=True,\n",
    "          callbacks = [tensorboard, checkpoint, earlyStopping, csv_logger] # learning_rate_reduction\n",
    ")"
   ]
  },
  {
   "cell_type": "markdown",
   "metadata": {},
   "source": [
    "### Plot Results after Training"
   ]
  },
  {
   "cell_type": "code",
   "execution_count": 19,
   "metadata": {},
   "outputs": [],
   "source": [
    "def plot_and_save_training():\n",
    "    plt.figure(1, figsize=(8,8))\n",
    "    # summarize history for accuracy\n",
    "    plt.subplot(211)\n",
    "    plt.plot(history.history['acc'])\n",
    "    plt.plot(history.history['val_acc'])\n",
    "    plt.title('model accuracy')\n",
    "    plt.ylabel('accuracy')\n",
    "    plt.xlabel('epoch')\n",
    "    plt.legend(['train', 'val'], loc='lower right')\n",
    "    plt.grid()\n",
    "\n",
    "    # summarize history for loss\n",
    "    plt.subplot(212)\n",
    "    plt.plot(history.history['loss'])\n",
    "    plt.plot(history.history['val_loss'])\n",
    "    plt.title('model loss')\n",
    "    plt.ylabel('loss')\n",
    "    plt.xlabel('epoch')\n",
    "    plt.legend(['train', 'val'], loc='upper right')\n",
    "    plt.grid()\n",
    "    \n",
    "    plt.subplots_adjust(left=None, bottom=None, right=None, top=None, wspace=None, hspace=0.3)\n",
    "    \n",
    "    plt.savefig('outputs/train_{}.pdf'.format(model_name))\n",
    "    plt.show()"
   ]
  },
  {
   "cell_type": "code",
   "execution_count": 20,
   "metadata": {},
   "outputs": [
    {
     "data": {
      "image/png": "[encoded data removed]",
      "text/plain": [
       "<Figure size 576x576 with 2 Axes>"
      ]
     },
     "metadata": {
      "needs_background": "light"
     },
     "output_type": "display_data"
    }
   ],
   "source": [
    "plot_and_save_training()"
   ]
  },
  {
   "cell_type": "markdown",
   "metadata": {},
   "source": [
    "### Evaluate Model on Test Data"
   ]
  },
  {
   "cell_type": "code",
   "execution_count": 21,
   "metadata": {},
   "outputs": [],
   "source": [
    "model_name = \"model\"\n",
    "models_dir = 'models/'"
   ]
  },
  {
   "cell_type": "code",
   "execution_count": 22,
   "metadata": {},
   "outputs": [],
   "source": [
    "def load_model(model_path, model_weights_path):\n",
    "\n",
    "    json_file = open(model_path, 'r')\n",
    "    loaded_model_json = json_file.read()\n",
    "    json_file.close()\n",
    "    loaded_model = model_from_json(loaded_model_json)\n",
    "\n",
    "    # load weights into new model\n",
    "    loaded_model.load_weights(model_weights_path)\n",
    "    print(\"Loaded Model from disk\")\n",
    "\n",
    "    # compile and evaluate loaded model\n",
    "    loaded_model.compile(loss='categorical_crossentropy', optimizer='sgd', metrics=['accuracy'])\n",
    "    print(\"Loaded Model Weights from disk\")\n",
    "\n",
    "    return loaded_model"
   ]
  },
  {
   "cell_type": "code",
   "execution_count": 23,
   "metadata": {},
   "outputs": [
    {
     "name": "stdout",
     "output_type": "stream",
     "text": [
      "Loaded Model from disk\n",
      "Loaded Model Weights from disk\n"
     ]
    }
   ],
   "source": [
    " model = load_model(models_dir + model_name + '.json', models_dir + model_name + '.h5')"
   ]
  },
  {
   "cell_type": "code",
   "execution_count": 24,
   "metadata": {},
   "outputs": [],
   "source": [
    " X_test, y_test = get_all_data(\"C:\\\\lrw_dataset_frame\\\\\", \"test\")"
   ]
  },
  {
   "cell_type": "code",
   "execution_count": 26,
   "metadata": {},
   "outputs": [
    {
     "name": "stdout",
     "output_type": "stream",
     "text": [
      "200/200 [==============================] - 45s 227ms/step\n",
      "\n",
      "acc: 75.00%\n"
     ]
    }
   ],
   "source": [
    "scores = model.evaluate(X_test, y_test)\n",
    "\n",
    "print(\"\\n%s: %.2f%%\" % (model.metrics_names[1], scores[1]*100))"
   ]
  },
  {
   "cell_type": "code",
   "execution_count": 27,
   "metadata": {},
   "outputs": [],
   "source": [
    "predictions = model.predict_classes(X_test)\n",
    "lab = np.argmax(y_test, axis=1)\n",
    "\n",
    "cm = confusion_matrix(lab, predictions)"
   ]
  },
  {
   "cell_type": "code",
   "execution_count": 28,
   "metadata": {},
   "outputs": [],
   "source": [
    "def plot_and_save_confusion_matrix(cm, target_names, title='Confusion matrix', cmap=None, normalize=True):\n",
    "    \n",
    "    # Source: https://www.kaggle.com/grfiv4/plot-a-confusion-matrix\n",
    "    \n",
    "    accuracy = np.trace(cm) / float(np.sum(cm))\n",
    "    misclass = 1 - accuracy\n",
    "\n",
    "    if cmap is None:\n",
    "        cmap = plt.get_cmap('Blues')\n",
    "\n",
    "    plt.figure(figsize=(10, 10))\n",
    "    plt.imshow(cm, interpolation='nearest', cmap=cmap)\n",
    "    plt.title(title)\n",
    "    plt.colorbar(orientation=\"horizontal\", pad=0.14, shrink=0.5)\n",
    "\n",
    "    if target_names is not None:\n",
    "        tick_marks = np.arange(len(target_names))\n",
    "        plt.xticks(tick_marks, target_names, rotation=45)\n",
    "        plt.yticks(tick_marks, target_names)\n",
    "\n",
    "    if normalize:\n",
    "        cm = cm.astype('float') / cm.sum(axis=1)[:, np.newaxis]\n",
    "\n",
    "    thresh = cm.max() / 1.5 if normalize else cm.max() / 2\n",
    "    for i, j in itertools.product(range(cm.shape[0]), range(cm.shape[1])):\n",
    "        if normalize:\n",
    "            plt.text(j, i, \"{:d}\".format(int(cm[i, j] * 100)),\n",
    "                     horizontalalignment=\"center\",\n",
    "                     color=\"white\" if cm[i, j] > thresh else \"black\")\n",
    "        else:\n",
    "            plt.text(j, i, \"{:d}\".format(int(cm[i, j] * 100)),\n",
    "                     horizontalalignment=\"center\",\n",
    "                     color=\"white\" if cm[i, j] > thresh else \"black\")\n",
    "\n",
    "    plt.tight_layout()\n",
    "    plt.ylabel('True label', color=\"black\")\n",
    "    plt.xlabel('Predicted label\\naccuracy={:0.4f}; misclass={:0.4f}'.format(accuracy, misclass), color=\"black\")\n",
    "    \n",
    "    plt.savefig('outputs/conf_matrix_{}.pdf'.format(model_name))\n",
    "    plt.show()"
   ]
  },
  {
   "cell_type": "code",
   "execution_count": 29,
   "metadata": {},
   "outputs": [
    {
     "data": {
      "image/png": "[encoded data removed]",
      "text/plain": [
       "<Figure size 720x720 with 2 Axes>"
      ]
     },
     "metadata": {
      "needs_background": "light"
     },
     "output_type": "display_data"
    }
   ],
   "source": [
    "plot_and_save_confusion_matrix(cm, labels, title=\"Confusion Matrix\")"
   ]
  },
  {
   "cell_type": "code",
   "execution_count": null,
   "metadata": {},
   "outputs": [],
   "source": []
  }
 ],
 "metadata": {
  "kernelspec": {
   "display_name": "Python 3",
   "language": "python",
   "name": "python3"
  },
  "language_info": {
   "codemirror_mode": {
    "name": "ipython",
    "version": 3
   },
   "file_extension": ".py",
   "mimetype": "text/x-python",
   "name": "python",
   "nbconvert_exporter": "python",
   "pygments_lexer": "ipython3",
   "version": "3.7.3"
  }
 },
 "nbformat": 4,
 "nbformat_minor": 2
}
